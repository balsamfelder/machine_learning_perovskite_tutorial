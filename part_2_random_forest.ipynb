{
 "cells": [
  {
   "cell_type": "markdown",
   "metadata": {},
   "source": [
    "# Machine Learning: K supercomputer double perovskite dataset\n",
    "\n",
    "## Part 2: machine learning\n",
    "\n",
    "Welcome to this tutorial! This notebook follows from a lecture given at Cal State LA from the weeks of May 20 to May 24, 2019.\n",
    "\n",
    "In Part 1, we looked at how we can generate atomic features for a double perovskite data set. Next, we will try to see if we can predict the band gap using a machine learning algorithm called a *random forest*.\n",
    "\n",
    "**Important!** The code from this notebook was run live during a lecture. The hyperparameter tuning is **very** minimal; one can certainly do much better than this. Moreover, there are other machine learning algorithms that perform better than a random forest, such as XGBoost. However, I kept it simple so that the audience would be familiarized with scikit-learn and it would run quickly when doing a live demo."
   ]
  },
  {
   "cell_type": "markdown",
   "metadata": {},
   "source": [
    "Let's import `numpy`, `pandas`, and `sklearn` (the package containing the actual random forest algorithm):"
   ]
  },
  {
   "cell_type": "code",
   "execution_count": 1,
   "metadata": {
    "colab": {},
    "colab_type": "code",
    "id": "tDGD4CLoTgi2"
   },
   "outputs": [],
   "source": [
    "import numpy as np\n",
    "import pandas as pd\n",
    "\n",
    "from sklearn.ensemble import RandomForestRegressor\n",
    "from sklearn.model_selection import train_test_split\n",
    "from sklearn.metrics import mean_absolute_error, mean_squared_error"
   ]
  },
  {
   "cell_type": "markdown",
   "metadata": {},
   "source": [
    "Let's read in the data frame we worked on last time:"
   ]
  },
  {
   "cell_type": "code",
   "execution_count": 2,
   "metadata": {
    "colab": {},
    "colab_type": "code",
    "id": "Nl9DYl89Ubvi"
   },
   "outputs": [],
   "source": [
    "df = pd.read_pickle('df_new.pkl')"
   ]
  },
  {
   "cell_type": "markdown",
   "metadata": {},
   "source": [
    "Let's make sure we are dealing with numerical values."
   ]
  },
  {
   "cell_type": "code",
   "execution_count": 3,
   "metadata": {
    "colab": {
     "base_uri": "https://localhost:8080/",
     "height": 719
    },
    "colab_type": "code",
    "id": "8-8bFPy1V688",
    "outputId": "3329e17a-c9f9-41de-e6a2-9f975b018e6c"
   },
   "outputs": [
    {
     "name": "stdout",
     "output_type": "stream",
     "text": [
      "<class 'pandas.core.frame.DataFrame'>\n",
      "Int64Index: 1921 entries, 50 to 9847\n",
      "Data columns (total 33 columns):\n",
      "System                            1921 non-null object\n",
      "LowGap_SOHSE_Approx               1921 non-null float64\n",
      "A_sites                           1921 non-null object\n",
      "B_sites                           1921 non-null object\n",
      "B_prime_sites                     1921 non-null object\n",
      "X_sites                           1921 non-null object\n",
      "B_IonicRadius_sum                 1921 non-null object\n",
      "B_IonicRadius_dif                 1921 non-null object\n",
      "X_IonicRadius                     1921 non-null object\n",
      "B_Electronegativity_sum           1921 non-null object\n",
      "B_Electronegativity_dif           1921 non-null object\n",
      "X_Electronegativity               1921 non-null object\n",
      "B_BoilingPoint_sum                1921 non-null object\n",
      "B_BoilingPoint_dif                1921 non-null object\n",
      "X_BoilingPoint                    1921 non-null object\n",
      "B_MeltingPoint_sum                1921 non-null object\n",
      "B_MeltingPoint_dif                1921 non-null object\n",
      "X_MeltingPoint                    1921 non-null object\n",
      "B_Rs_sum                          1921 non-null object\n",
      "B_Rs_dif                          1921 non-null object\n",
      "X_Rs                              1921 non-null object\n",
      "B_Rp_sum                          1921 non-null object\n",
      "B_Rp_dif                          1921 non-null object\n",
      "X_Rp                              1921 non-null object\n",
      "B_Rd_sum                          1921 non-null object\n",
      "B_Rd_dif                          1921 non-null object\n",
      "X_Rd                              1921 non-null object\n",
      "B_FirstIonizationPotential_sum    1921 non-null object\n",
      "B_FirstIonizationPotential_dif    1921 non-null object\n",
      "X_FirstIonizationPotential        1921 non-null object\n",
      "A_IonicRadius                     1921 non-null float64\n",
      "ToleranceFactor_sum               1921 non-null object\n",
      "ToleranceFactor_dif               1921 non-null object\n",
      "dtypes: float64(2), object(31)\n",
      "memory usage: 510.3+ KB\n"
     ]
    }
   ],
   "source": [
    "df.info()"
   ]
  },
  {
   "cell_type": "markdown",
   "metadata": {},
   "source": [
    "It looks like the desired features are not floats, so we need to convert them. Let's use `numpy,float64`."
   ]
  },
  {
   "cell_type": "code",
   "execution_count": 4,
   "metadata": {
    "colab": {},
    "colab_type": "code",
    "id": "yW6UOt7jWJV_"
   },
   "outputs": [],
   "source": [
    "for col in df.columns[6:]:\n",
    "    df[col] = df[col].astype(np.float64)"
   ]
  },
  {
   "cell_type": "markdown",
   "metadata": {},
   "source": [
    "Let's make sure this worked:"
   ]
  },
  {
   "cell_type": "code",
   "execution_count": 5,
   "metadata": {
    "colab": {
     "base_uri": "https://localhost:8080/",
     "height": 719
    },
    "colab_type": "code",
    "id": "b05Bxf8gYxT7",
    "outputId": "092f484e-ef6a-4bb6-9d6e-3ca26363ad7a"
   },
   "outputs": [
    {
     "name": "stdout",
     "output_type": "stream",
     "text": [
      "<class 'pandas.core.frame.DataFrame'>\n",
      "Int64Index: 1921 entries, 50 to 9847\n",
      "Data columns (total 33 columns):\n",
      "System                            1921 non-null object\n",
      "LowGap_SOHSE_Approx               1921 non-null float64\n",
      "A_sites                           1921 non-null object\n",
      "B_sites                           1921 non-null object\n",
      "B_prime_sites                     1921 non-null object\n",
      "X_sites                           1921 non-null object\n",
      "B_IonicRadius_sum                 1921 non-null float64\n",
      "B_IonicRadius_dif                 1921 non-null float64\n",
      "X_IonicRadius                     1921 non-null float64\n",
      "B_Electronegativity_sum           1921 non-null float64\n",
      "B_Electronegativity_dif           1921 non-null float64\n",
      "X_Electronegativity               1921 non-null float64\n",
      "B_BoilingPoint_sum                1921 non-null float64\n",
      "B_BoilingPoint_dif                1921 non-null float64\n",
      "X_BoilingPoint                    1921 non-null float64\n",
      "B_MeltingPoint_sum                1921 non-null float64\n",
      "B_MeltingPoint_dif                1921 non-null float64\n",
      "X_MeltingPoint                    1921 non-null float64\n",
      "B_Rs_sum                          1921 non-null float64\n",
      "B_Rs_dif                          1921 non-null float64\n",
      "X_Rs                              1921 non-null float64\n",
      "B_Rp_sum                          1921 non-null float64\n",
      "B_Rp_dif                          1921 non-null float64\n",
      "X_Rp                              1921 non-null float64\n",
      "B_Rd_sum                          1921 non-null float64\n",
      "B_Rd_dif                          1921 non-null float64\n",
      "X_Rd                              1921 non-null float64\n",
      "B_FirstIonizationPotential_sum    1921 non-null float64\n",
      "B_FirstIonizationPotential_dif    1921 non-null float64\n",
      "X_FirstIonizationPotential        1921 non-null float64\n",
      "A_IonicRadius                     1921 non-null float64\n",
      "ToleranceFactor_sum               1921 non-null float64\n",
      "ToleranceFactor_dif               1921 non-null float64\n",
      "dtypes: float64(28), object(5)\n",
      "memory usage: 510.3+ KB\n"
     ]
    }
   ],
   "source": [
    "df.info()"
   ]
  },
  {
   "cell_type": "markdown",
   "metadata": {},
   "source": [
    "Let's use all the columns that contain numerical data (besides the band gap we which to predict), and use this as our $\\boldsymbol{X}$, in which rows represent individual data observations, and columns represent features. In machine learning, this is sometimes called a *design matrix*. By convention, matrices are written as capital letters, so we will use a capital `X` in code:"
   ]
  },
  {
   "cell_type": "code",
   "execution_count": 6,
   "metadata": {
    "colab": {},
    "colab_type": "code",
    "id": "SNv2y9ASZE2C"
   },
   "outputs": [],
   "source": [
    "X = df[df.columns[6:]]"
   ]
  },
  {
   "cell_type": "markdown",
   "metadata": {},
   "source": [
    "Let's set our $\\boldsymbol{y}$ as a vector containing all of the band gaps. This is sometimes called a *target vector*. Let's check the shapes of our $\\boldsymbol{X}$ and $\\boldsymbol{y}$:"
   ]
  },
  {
   "cell_type": "code",
   "execution_count": 7,
   "metadata": {
    "colab": {
     "base_uri": "https://localhost:8080/",
     "height": 35
    },
    "colab_type": "code",
    "id": "UEF5G4dvZVkJ",
    "outputId": "feac37be-078d-4533-ea53-27ed38bce918"
   },
   "outputs": [
    {
     "data": {
      "text/plain": [
       "((1921, 27), (1921,))"
      ]
     },
     "execution_count": 7,
     "metadata": {},
     "output_type": "execute_result"
    }
   ],
   "source": [
    "y = df['LowGap_SOHSE_Approx']\n",
    "\n",
    "X.shape, y.shape"
   ]
  },
  {
   "cell_type": "markdown",
   "metadata": {},
   "source": [
    "Now, let's use the function `train_test_split` to make splits for training and testing. We will use a test set size of $0.2$. The `random_state=42` ensures that the same random split is returned every time (for the sake of reproducibility)."
   ]
  },
  {
   "cell_type": "code",
   "execution_count": 8,
   "metadata": {
    "colab": {
     "base_uri": "https://localhost:8080/",
     "height": 226
    },
    "colab_type": "code",
    "id": "eavgtqdYaHCW",
    "outputId": "8869e56e-9503-46b5-9cf4-2f88cf4c6388"
   },
   "outputs": [
    {
     "data": {
      "text/html": [
       "<div>\n",
       "<style scoped>\n",
       "    .dataframe tbody tr th:only-of-type {\n",
       "        vertical-align: middle;\n",
       "    }\n",
       "\n",
       "    .dataframe tbody tr th {\n",
       "        vertical-align: top;\n",
       "    }\n",
       "\n",
       "    .dataframe thead th {\n",
       "        text-align: right;\n",
       "    }\n",
       "</style>\n",
       "<table border=\"1\" class=\"dataframe\">\n",
       "  <thead>\n",
       "    <tr style=\"text-align: right;\">\n",
       "      <th></th>\n",
       "      <th>B_IonicRadius_sum</th>\n",
       "      <th>B_IonicRadius_dif</th>\n",
       "      <th>X_IonicRadius</th>\n",
       "      <th>B_Electronegativity_sum</th>\n",
       "      <th>B_Electronegativity_dif</th>\n",
       "      <th>X_Electronegativity</th>\n",
       "      <th>B_BoilingPoint_sum</th>\n",
       "      <th>B_BoilingPoint_dif</th>\n",
       "      <th>X_BoilingPoint</th>\n",
       "      <th>B_MeltingPoint_sum</th>\n",
       "      <th>...</th>\n",
       "      <th>X_Rp</th>\n",
       "      <th>B_Rd_sum</th>\n",
       "      <th>B_Rd_dif</th>\n",
       "      <th>X_Rd</th>\n",
       "      <th>B_FirstIonizationPotential_sum</th>\n",
       "      <th>B_FirstIonizationPotential_dif</th>\n",
       "      <th>X_FirstIonizationPotential</th>\n",
       "      <th>A_IonicRadius</th>\n",
       "      <th>ToleranceFactor_sum</th>\n",
       "      <th>ToleranceFactor_dif</th>\n",
       "    </tr>\n",
       "  </thead>\n",
       "  <tbody>\n",
       "    <tr>\n",
       "      <th>2332</th>\n",
       "      <td>2.2725</td>\n",
       "      <td>0.3925</td>\n",
       "      <td>0.882500</td>\n",
       "      <td>3.40</td>\n",
       "      <td>0.16</td>\n",
       "      <td>2.96</td>\n",
       "      <td>4091.00</td>\n",
       "      <td>599.0</td>\n",
       "      <td>332.00</td>\n",
       "      <td>1006.75</td>\n",
       "      <td>...</td>\n",
       "      <td>0.62</td>\n",
       "      <td>0.823</td>\n",
       "      <td>0.103</td>\n",
       "      <td>0.143</td>\n",
       "      <td>11.8947</td>\n",
       "      <td>0.3219</td>\n",
       "      <td>11.8138</td>\n",
       "      <td>2.17</td>\n",
       "      <td>2.158798</td>\n",
       "      <td>0.209865</td>\n",
       "    </tr>\n",
       "    <tr>\n",
       "      <th>803</th>\n",
       "      <td>1.5900</td>\n",
       "      <td>0.0700</td>\n",
       "      <td>1.273333</td>\n",
       "      <td>3.86</td>\n",
       "      <td>0.24</td>\n",
       "      <td>2.66</td>\n",
       "      <td>4337.00</td>\n",
       "      <td>617.0</td>\n",
       "      <td>457.40</td>\n",
       "      <td>1206.69</td>\n",
       "      <td>...</td>\n",
       "      <td>0.83</td>\n",
       "      <td>0.505</td>\n",
       "      <td>0.165</td>\n",
       "      <td>0.315</td>\n",
       "      <td>14.6393</td>\n",
       "      <td>2.6407</td>\n",
       "      <td>10.4513</td>\n",
       "      <td>2.17</td>\n",
       "      <td>2.355038</td>\n",
       "      <td>0.039852</td>\n",
       "    </tr>\n",
       "    <tr>\n",
       "      <th>6388</th>\n",
       "      <td>1.6300</td>\n",
       "      <td>0.0900</td>\n",
       "      <td>0.780000</td>\n",
       "      <td>3.32</td>\n",
       "      <td>0.70</td>\n",
       "      <td>3.16</td>\n",
       "      <td>4456.00</td>\n",
       "      <td>1730.0</td>\n",
       "      <td>239.11</td>\n",
       "      <td>2134.40</td>\n",
       "      <td>...</td>\n",
       "      <td>0.51</td>\n",
       "      <td>0.160</td>\n",
       "      <td>0.160</td>\n",
       "      <td>0.000</td>\n",
       "      <td>15.5462</td>\n",
       "      <td>0.2538</td>\n",
       "      <td>12.9676</td>\n",
       "      <td>2.53</td>\n",
       "      <td>2.937164</td>\n",
       "      <td>0.082867</td>\n",
       "    </tr>\n",
       "    <tr>\n",
       "      <th>5236</th>\n",
       "      <td>1.3700</td>\n",
       "      <td>0.2900</td>\n",
       "      <td>0.882500</td>\n",
       "      <td>3.86</td>\n",
       "      <td>0.06</td>\n",
       "      <td>2.96</td>\n",
       "      <td>6048.00</td>\n",
       "      <td>298.0</td>\n",
       "      <td>332.00</td>\n",
       "      <td>2192.08</td>\n",
       "      <td>...</td>\n",
       "      <td>0.62</td>\n",
       "      <td>0.345</td>\n",
       "      <td>0.345</td>\n",
       "      <td>0.143</td>\n",
       "      <td>15.4955</td>\n",
       "      <td>0.8079</td>\n",
       "      <td>11.8138</td>\n",
       "      <td>2.53</td>\n",
       "      <td>3.105363</td>\n",
       "      <td>0.287258</td>\n",
       "    </tr>\n",
       "    <tr>\n",
       "      <th>1270</th>\n",
       "      <td>2.4900</td>\n",
       "      <td>0.0000</td>\n",
       "      <td>0.882500</td>\n",
       "      <td>4.00</td>\n",
       "      <td>0.00</td>\n",
       "      <td>2.96</td>\n",
       "      <td>1259.76</td>\n",
       "      <td>0.0</td>\n",
       "      <td>332.00</td>\n",
       "      <td>468.64</td>\n",
       "      <td>...</td>\n",
       "      <td>0.62</td>\n",
       "      <td>0.950</td>\n",
       "      <td>0.000</td>\n",
       "      <td>0.143</td>\n",
       "      <td>20.8750</td>\n",
       "      <td>0.0000</td>\n",
       "      <td>11.8138</td>\n",
       "      <td>2.17</td>\n",
       "      <td>2.029089</td>\n",
       "      <td>0.000000</td>\n",
       "    </tr>\n",
       "  </tbody>\n",
       "</table>\n",
       "<p>5 rows × 27 columns</p>\n",
       "</div>"
      ],
      "text/plain": [
       "      B_IonicRadius_sum  B_IonicRadius_dif  X_IonicRadius  \\\n",
       "2332             2.2725             0.3925       0.882500   \n",
       "803              1.5900             0.0700       1.273333   \n",
       "6388             1.6300             0.0900       0.780000   \n",
       "5236             1.3700             0.2900       0.882500   \n",
       "1270             2.4900             0.0000       0.882500   \n",
       "\n",
       "      B_Electronegativity_sum  B_Electronegativity_dif  X_Electronegativity  \\\n",
       "2332                     3.40                     0.16                 2.96   \n",
       "803                      3.86                     0.24                 2.66   \n",
       "6388                     3.32                     0.70                 3.16   \n",
       "5236                     3.86                     0.06                 2.96   \n",
       "1270                     4.00                     0.00                 2.96   \n",
       "\n",
       "      B_BoilingPoint_sum  B_BoilingPoint_dif  X_BoilingPoint  \\\n",
       "2332             4091.00               599.0          332.00   \n",
       "803              4337.00               617.0          457.40   \n",
       "6388             4456.00              1730.0          239.11   \n",
       "5236             6048.00               298.0          332.00   \n",
       "1270             1259.76                 0.0          332.00   \n",
       "\n",
       "      B_MeltingPoint_sum  ...  X_Rp  B_Rd_sum  B_Rd_dif   X_Rd  \\\n",
       "2332             1006.75  ...  0.62     0.823     0.103  0.143   \n",
       "803              1206.69  ...  0.83     0.505     0.165  0.315   \n",
       "6388             2134.40  ...  0.51     0.160     0.160  0.000   \n",
       "5236             2192.08  ...  0.62     0.345     0.345  0.143   \n",
       "1270              468.64  ...  0.62     0.950     0.000  0.143   \n",
       "\n",
       "      B_FirstIonizationPotential_sum  B_FirstIonizationPotential_dif  \\\n",
       "2332                         11.8947                          0.3219   \n",
       "803                          14.6393                          2.6407   \n",
       "6388                         15.5462                          0.2538   \n",
       "5236                         15.4955                          0.8079   \n",
       "1270                         20.8750                          0.0000   \n",
       "\n",
       "      X_FirstIonizationPotential  A_IonicRadius  ToleranceFactor_sum  \\\n",
       "2332                     11.8138           2.17             2.158798   \n",
       "803                      10.4513           2.17             2.355038   \n",
       "6388                     12.9676           2.53             2.937164   \n",
       "5236                     11.8138           2.53             3.105363   \n",
       "1270                     11.8138           2.17             2.029089   \n",
       "\n",
       "      ToleranceFactor_dif  \n",
       "2332             0.209865  \n",
       "803              0.039852  \n",
       "6388             0.082867  \n",
       "5236             0.287258  \n",
       "1270             0.000000  \n",
       "\n",
       "[5 rows x 27 columns]"
      ]
     },
     "execution_count": 8,
     "metadata": {},
     "output_type": "execute_result"
    }
   ],
   "source": [
    "# Returns four numbers:\n",
    "# training X, test X,\n",
    "# training y, test y\n",
    "\n",
    "Xtr, Xte, ytr, yte = train_test_split(X, y, test_size=0.2,\n",
    "                                      random_state=42)\n",
    "\n",
    "Xtr.head()"
   ]
  },
  {
   "cell_type": "markdown",
   "metadata": {},
   "source": [
    "Let's check the shapes of the $\\boldsymbol{X}$ and $\\boldsymbol{y}$ for our splits:"
   ]
  },
  {
   "cell_type": "code",
   "execution_count": 9,
   "metadata": {
    "colab": {
     "base_uri": "https://localhost:8080/",
     "height": 35
    },
    "colab_type": "code",
    "id": "x1l8d6dRcIoV",
    "outputId": "4a40f506-f16d-434b-ff58-078dd1ea476f"
   },
   "outputs": [
    {
     "data": {
      "text/plain": [
       "((1536, 27), (385, 27), (1536,), (385,))"
      ]
     },
     "execution_count": 9,
     "metadata": {},
     "output_type": "execute_result"
    }
   ],
   "source": [
    "Xtr.shape, Xte.shape, ytr.shape, yte.shape"
   ]
  },
  {
   "cell_type": "markdown",
   "metadata": {},
   "source": [
    "Let's create a simple random forest object. We will use a random state as well, since there is some element of randomness in how the random forest works. Notice how there are some hyperparameters set as default; we will try to adjust these later."
   ]
  },
  {
   "cell_type": "code",
   "execution_count": 10,
   "metadata": {
    "colab": {
     "base_uri": "https://localhost:8080/",
     "height": 166
    },
    "colab_type": "code",
    "id": "g26g4N9Zc9D1",
    "outputId": "f3ccce98-b571-487a-b808-d146db2cd022"
   },
   "outputs": [
    {
     "data": {
      "text/plain": [
       "RandomForestRegressor(bootstrap=True, criterion='mse', max_depth=None,\n",
       "           max_features='auto', max_leaf_nodes=None,\n",
       "           min_impurity_decrease=0.0, min_impurity_split=None,\n",
       "           min_samples_leaf=1, min_samples_split=2,\n",
       "           min_weight_fraction_leaf=0.0, n_estimators='warn', n_jobs=-1,\n",
       "           oob_score=False, random_state=42, verbose=0, warm_start=False)"
      ]
     },
     "execution_count": 10,
     "metadata": {},
     "output_type": "execute_result"
    }
   ],
   "source": [
    "rfr = RandomForestRegressor(random_state=42, n_jobs=-1)\n",
    "\n",
    "rfr"
   ]
  },
  {
   "cell_type": "markdown",
   "metadata": {},
   "source": [
    "Let's train our regressor on the training data:"
   ]
  },
  {
   "cell_type": "code",
   "execution_count": 11,
   "metadata": {
    "colab": {
     "base_uri": "https://localhost:8080/",
     "height": 203
    },
    "colab_type": "code",
    "id": "TQrJIlXkdZdm",
    "outputId": "d01331a2-a721-4ba8-a933-e3b923f22c1c"
   },
   "outputs": [
    {
     "name": "stderr",
     "output_type": "stream",
     "text": [
      "/Users/kawazu/.anaconda3/lib/python3.7/site-packages/sklearn/ensemble/forest.py:246: FutureWarning: The default value of n_estimators will change from 10 in version 0.20 to 100 in 0.22.\n",
      "  \"10 in version 0.20 to 100 in 0.22.\", FutureWarning)\n"
     ]
    },
    {
     "data": {
      "text/plain": [
       "RandomForestRegressor(bootstrap=True, criterion='mse', max_depth=None,\n",
       "           max_features='auto', max_leaf_nodes=None,\n",
       "           min_impurity_decrease=0.0, min_impurity_split=None,\n",
       "           min_samples_leaf=1, min_samples_split=2,\n",
       "           min_weight_fraction_leaf=0.0, n_estimators=10, n_jobs=-1,\n",
       "           oob_score=False, random_state=42, verbose=0, warm_start=False)"
      ]
     },
     "execution_count": 11,
     "metadata": {},
     "output_type": "execute_result"
    }
   ],
   "source": [
    "rfr.fit(Xtr, ytr)"
   ]
  },
  {
   "cell_type": "markdown",
   "metadata": {},
   "source": [
    "Let's look at the mean squared error and mean absolute error. Note that the random forest regressor seeks to decrease mean squared error.\n",
    "\n",
    "*Side note:* mean squared error punishes large errors more harshly than many smaller errors."
   ]
  },
  {
   "cell_type": "code",
   "execution_count": 12,
   "metadata": {
    "colab": {
     "base_uri": "https://localhost:8080/",
     "height": 35
    },
    "colab_type": "code",
    "id": "e9ZJz4cYd1Sq",
    "outputId": "c2a01fb6-cfe5-4cc4-dcfa-f7590643f941"
   },
   "outputs": [
    {
     "data": {
      "text/plain": [
       "0.28419785065471403"
      ]
     },
     "execution_count": 12,
     "metadata": {},
     "output_type": "execute_result"
    }
   ],
   "source": [
    "mean_squared_error(yte, rfr.predict(Xte))"
   ]
  },
  {
   "cell_type": "code",
   "execution_count": 13,
   "metadata": {
    "colab": {
     "base_uri": "https://localhost:8080/",
     "height": 35
    },
    "colab_type": "code",
    "id": "JHI1tBU9eK88",
    "outputId": "97bf6550-9e18-4fb8-e345-74c7e9160646"
   },
   "outputs": [
    {
     "data": {
      "text/plain": [
       "0.3793655412987013"
      ]
     },
     "execution_count": 13,
     "metadata": {},
     "output_type": "execute_result"
    }
   ],
   "source": [
    "mean_absolute_error(yte, rfr.predict(Xte))"
   ]
  },
  {
   "cell_type": "markdown",
   "metadata": {},
   "source": [
    "Next, we will try different values for hyperparameters that we took as default in the beginning. The `RandomizedSearchCV` object from scikit-learn takes in a dictionary, where the key is the hyperparameter that is to be tuned, and the value is a list of the possible values to try. It will perform [$k$-fold cross validation](https://en.wikipedia.org/wiki/Cross-validation_(statistics)#k-fold_cross-validation) to rank which configuration performs the best."
   ]
  },
  {
   "cell_type": "code",
   "execution_count": 14,
   "metadata": {
    "colab": {},
    "colab_type": "code",
    "id": "uZn762XPf8be"
   },
   "outputs": [],
   "source": [
    "from sklearn.model_selection import RandomizedSearchCV"
   ]
  },
  {
   "cell_type": "markdown",
   "metadata": {},
   "source": [
    "Let's make the dictionary of hyperparameters:"
   ]
  },
  {
   "cell_type": "code",
   "execution_count": 15,
   "metadata": {
    "colab": {
     "base_uri": "https://localhost:8080/",
     "height": 442
    },
    "colab_type": "code",
    "id": "Y-hcyUK3hQjN",
    "outputId": "4c61e3d9-8910-4e1d-fdff-7218e325259b"
   },
   "outputs": [
    {
     "data": {
      "text/plain": [
       "{'n_estimators': [50,\n",
       "  100,\n",
       "  150,\n",
       "  200,\n",
       "  250,\n",
       "  300,\n",
       "  350,\n",
       "  400,\n",
       "  450,\n",
       "  500,\n",
       "  550,\n",
       "  600,\n",
       "  650,\n",
       "  700,\n",
       "  750,\n",
       "  800,\n",
       "  850,\n",
       "  900,\n",
       "  950,\n",
       "  1000],\n",
       " 'max_depth': [10, 20, 30, 40, 50, 60, 70, 80, 90, 100, None],\n",
       " 'min_samples_split': [2, 5, 10, 15, 20],\n",
       " 'max_features': [0.1, 0.2, 0.3, 0.4, 0.5, 'sqrt']}"
      ]
     },
     "execution_count": 15,
     "metadata": {},
     "output_type": "execute_result"
    }
   ],
   "source": [
    "# Hyperparameter dictionary\n",
    "# Keys: hyperparameter you want to tune\n",
    "# Values: list of the values you want to try\n",
    "\n",
    "hp_dict = {\n",
    "    'n_estimators': [int(i) for i in np.linspace(50, 1000, 20)],\n",
    "    'max_depth': [int(i) for i in np.linspace(10, 100, 10)] + [None],\n",
    "    'min_samples_split': [2, 5, 10, 15, 20],\n",
    "    'max_features': [0.1, 0.2, 0.3, 0.4, 0.5, 'sqrt']    \n",
    "}\n",
    "\n",
    "hp_dict"
   ]
  },
  {
   "cell_type": "markdown",
   "metadata": {},
   "source": [
    "Let's make a `RandomizedSearchCV` object. We need to specify the algorithm (`estimator`). Let's set this to the random forest `rfr` we set earlier. The grid of configurations to try (`param_distributions`) will be the `hp_dict` dictionary we created. `n_iter` tests how many combinations we wish to try. Here it is `3` to run it quickly for demonstration purposes. `cv` dictates the $k$ value for $k$-fold cross validation. We use `random_state=42` to ensure reproducibility. `verbose=3` makes a lot of the information print, which is convenient in tracking the progress. Finally, `n_jobs=-1` indicates that all cores will be used.\n",
    "\n",
    "**Important!** The value of `n_iter` is far too small for real-life applications. The value was chosen to be small to run slowly in the live lecture. Look for values in the neighborhood of hundreds or thousands. You also may wish to look into `sklearn.model_selection.GridSearchCV`, which tests exhaustively each combination of hyperparameters.\n",
    "\n",
    "**Important!** `n_jobs` can also be set for the `RandomForestRegressor` itself. The `rfr` object by default uses one core. However, regardless of the number of processors used for the `RandomForestRegressor`, it will train in parallel as many `rfr` objects as there are cores. If you set `n_jobs=-1` in the `RandomSearchCV` and `n_jobs` greater than 1 in the `RandomForestRegressor`, you may risk overloading your CPUs, leading to poor performance."
   ]
  },
  {
   "cell_type": "code",
   "execution_count": 16,
   "metadata": {
    "colab": {},
    "colab_type": "code",
    "id": "a6-8hx6zhuGE"
   },
   "outputs": [],
   "source": [
    "rand = RandomizedSearchCV(\n",
    "    estimator=rfr,\n",
    "    param_distributions=hp_dict,\n",
    "    n_iter=3,\n",
    "    cv=3,\n",
    "    random_state=42,\n",
    "    verbose=3,\n",
    "    n_jobs=-1\n",
    ")"
   ]
  },
  {
   "cell_type": "markdown",
   "metadata": {},
   "source": [
    "Let's fit our `RandomizedSearchCV` object:"
   ]
  },
  {
   "cell_type": "code",
   "execution_count": 17,
   "metadata": {
    "colab": {
     "base_uri": "https://localhost:8080/",
     "height": 592
    },
    "colab_type": "code",
    "id": "P61hlv7Oiryq",
    "outputId": "09bba419-2452-4407-8915-d48559efc500"
   },
   "outputs": [
    {
     "name": "stdout",
     "output_type": "stream",
     "text": [
      "Fitting 3 folds for each of 3 candidates, totalling 9 fits\n"
     ]
    },
    {
     "name": "stderr",
     "output_type": "stream",
     "text": [
      "[Parallel(n_jobs=-1)]: Using backend LokyBackend with 8 concurrent workers.\n",
      "[Parallel(n_jobs=-1)]: Done   2 out of   9 | elapsed:    2.4s remaining:    8.4s\n",
      "[Parallel(n_jobs=-1)]: Done   6 out of   9 | elapsed:    3.7s remaining:    1.9s\n",
      "[Parallel(n_jobs=-1)]: Done   9 out of   9 | elapsed:    4.0s finished\n"
     ]
    },
    {
     "data": {
      "text/plain": [
       "RandomizedSearchCV(cv=3, error_score='raise-deprecating',\n",
       "          estimator=RandomForestRegressor(bootstrap=True, criterion='mse', max_depth=None,\n",
       "           max_features='auto', max_leaf_nodes=None,\n",
       "           min_impurity_decrease=0.0, min_impurity_split=None,\n",
       "           min_samples_leaf=1, min_samples_split=2,\n",
       "           min_weight_fraction_leaf=0.0, n_estimators=10, n_jobs=-1,\n",
       "           oob_score=False, random_state=42, verbose=0, warm_start=False),\n",
       "          fit_params=None, iid='warn', n_iter=3, n_jobs=-1,\n",
       "          param_distributions={'n_estimators': [50, 100, 150, 200, 250, 300, 350, 400, 450, 500, 550, 600, 650, 700, 750, 800, 850, 900, 950, 1000], 'max_depth': [10, 20, 30, 40, 50, 60, 70, 80, 90, 100, None], 'min_samples_split': [2, 5, 10, 15, 20], 'max_features': [0.1, 0.2, 0.3, 0.4, 0.5, 'sqrt']},\n",
       "          pre_dispatch='2*n_jobs', random_state=42, refit=True,\n",
       "          return_train_score='warn', scoring=None, verbose=3)"
      ]
     },
     "execution_count": 17,
     "metadata": {},
     "output_type": "execute_result"
    }
   ],
   "source": [
    "rand.fit(Xtr, ytr)"
   ]
  },
  {
   "cell_type": "markdown",
   "metadata": {},
   "source": [
    "What were the best hyperparameters? (By **no means** is this an exhaustive search.) Let's find out:"
   ]
  },
  {
   "cell_type": "code",
   "execution_count": 18,
   "metadata": {
    "colab": {
     "base_uri": "https://localhost:8080/",
     "height": 91
    },
    "colab_type": "code",
    "id": "w9Ep_Nmsiy2b",
    "outputId": "646f50a7-3782-4a95-b002-ffae7b71bb92"
   },
   "outputs": [
    {
     "data": {
      "text/plain": [
       "{'n_estimators': 350,\n",
       " 'min_samples_split': 5,\n",
       " 'max_features': 0.5,\n",
       " 'max_depth': 90}"
      ]
     },
     "execution_count": 18,
     "metadata": {},
     "output_type": "execute_result"
    }
   ],
   "source": [
    "rand.best_params_"
   ]
  },
  {
   "cell_type": "markdown",
   "metadata": {},
   "source": [
    "Let's create a `RandomForestRegressor` object with the best hyperparameters from our search, and look at its performance:"
   ]
  },
  {
   "cell_type": "code",
   "execution_count": 19,
   "metadata": {
    "colab": {
     "base_uri": "https://localhost:8080/",
     "height": 166
    },
    "colab_type": "code",
    "id": "lj_APe9dp0K6",
    "outputId": "7ba9af18-6e61-402a-c01f-877512c69302"
   },
   "outputs": [
    {
     "data": {
      "text/plain": [
       "RandomForestRegressor(bootstrap=True, criterion='mse', max_depth=90,\n",
       "           max_features=0.5, max_leaf_nodes=None,\n",
       "           min_impurity_decrease=0.0, min_impurity_split=None,\n",
       "           min_samples_leaf=1, min_samples_split=5,\n",
       "           min_weight_fraction_leaf=0.0, n_estimators=350, n_jobs=-1,\n",
       "           oob_score=False, random_state=42, verbose=0, warm_start=False)"
      ]
     },
     "execution_count": 19,
     "metadata": {},
     "output_type": "execute_result"
    }
   ],
   "source": [
    "rand.best_estimator_"
   ]
  },
  {
   "cell_type": "markdown",
   "metadata": {},
   "source": [
    "What was its mean squared error?"
   ]
  },
  {
   "cell_type": "code",
   "execution_count": 20,
   "metadata": {
    "colab": {
     "base_uri": "https://localhost:8080/",
     "height": 35
    },
    "colab_type": "code",
    "id": "lpJkPEdGp-90",
    "outputId": "24938ff2-f5ae-413b-870f-09b9454680eb"
   },
   "outputs": [
    {
     "data": {
      "text/plain": [
       "0.25410944822395176"
      ]
     },
     "execution_count": 20,
     "metadata": {},
     "output_type": "execute_result"
    }
   ],
   "source": [
    "mean_squared_error(yte, rand.best_estimator_.predict(Xte))"
   ]
  },
  {
   "cell_type": "markdown",
   "metadata": {},
   "source": [
    "What was its mean absolute error?"
   ]
  },
  {
   "cell_type": "code",
   "execution_count": 21,
   "metadata": {
    "colab": {
     "base_uri": "https://localhost:8080/",
     "height": 35
    },
    "colab_type": "code",
    "id": "FKGMccNhqAtz",
    "outputId": "f450b7f3-6540-4723-e6e4-20e41b748c7c"
   },
   "outputs": [
    {
     "data": {
      "text/plain": [
       "0.3637732862905896"
      ]
     },
     "execution_count": 21,
     "metadata": {},
     "output_type": "execute_result"
    }
   ],
   "source": [
    "mean_absolute_error(yte, rand.best_estimator_.predict(Xte))"
   ]
  },
  {
   "cell_type": "markdown",
   "metadata": {},
   "source": [
    "We can also see which columns (features) were most important for the random forest algorithm. This can help us whittle down the number of features in case they are too many features, and also help us interpret the model."
   ]
  },
  {
   "cell_type": "code",
   "execution_count": 22,
   "metadata": {
    "colab": {
     "base_uri": "https://localhost:8080/",
     "height": 128
    },
    "colab_type": "code",
    "id": "hRtmCnZxqlbT",
    "outputId": "bdb959da-5e9b-45dc-eb47-b83bc3dfb6d6"
   },
   "outputs": [
    {
     "data": {
      "text/plain": [
       "array([0.02928105, 0.02071222, 0.0174927 , 0.20966352, 0.05428223,\n",
       "       0.01836623, 0.04117425, 0.05902698, 0.01840578, 0.04581402,\n",
       "       0.0371618 , 0.01642706, 0.03121912, 0.02422141, 0.0173211 ,\n",
       "       0.03523402, 0.0466566 , 0.01823948, 0.02969565, 0.01776696,\n",
       "       0.01971224, 0.06552189, 0.03108234, 0.02006746, 0.01059797,\n",
       "       0.03402934, 0.03082659])"
      ]
     },
     "execution_count": 22,
     "metadata": {},
     "output_type": "execute_result"
    }
   ],
   "source": [
    "rand.best_estimator_.feature_importances_"
   ]
  },
  {
   "cell_type": "markdown",
   "metadata": {},
   "source": [
    "Finally, let's look at the names that these importances correspond to. The `sorted` with `key=lambda x: -x[1]` allows us to sort by the negative of the second element in some tuple; thus, the largest importance will be in the front of the list. One could also use `reverse=True` instead of the negative sign."
   ]
  },
  {
   "cell_type": "code",
   "execution_count": 23,
   "metadata": {
    "colab": {
     "base_uri": "https://localhost:8080/",
     "height": 516
    },
    "colab_type": "code",
    "id": "zvqb8-tcrIhj",
    "outputId": "b61b2821-b369-4722-e1ad-d8485c414618"
   },
   "outputs": [
    {
     "data": {
      "text/plain": [
       "[('B_Electronegativity_sum', 0.2096635207097799),\n",
       " ('B_FirstIonizationPotential_sum', 0.06552189392073311),\n",
       " ('B_BoilingPoint_dif', 0.059026982877728965),\n",
       " ('B_Electronegativity_dif', 0.05428223256676176),\n",
       " ('B_Rp_dif', 0.04665659772673598),\n",
       " ('B_MeltingPoint_sum', 0.04581401504826196),\n",
       " ('B_BoilingPoint_sum', 0.04117425020310157),\n",
       " ('B_MeltingPoint_dif', 0.03716179672088477),\n",
       " ('B_Rp_sum', 0.035234024358767144),\n",
       " ('ToleranceFactor_sum', 0.03402933692221601),\n",
       " ('B_Rs_sum', 0.031219122180312232),\n",
       " ('B_FirstIonizationPotential_dif', 0.031082343246673656),\n",
       " ('ToleranceFactor_dif', 0.030826587092878256),\n",
       " ('B_Rd_sum', 0.02969565455536849),\n",
       " ('B_IonicRadius_sum', 0.02928104587712013),\n",
       " ('B_Rs_dif', 0.02422141260885283),\n",
       " ('B_IonicRadius_dif', 0.020712218265346707),\n",
       " ('X_FirstIonizationPotential', 0.020067456887935153),\n",
       " ('X_Rd', 0.01971224159252183),\n",
       " ('X_BoilingPoint', 0.018405775291338862),\n",
       " ('X_Electronegativity', 0.018366227753744024),\n",
       " ('X_Rp', 0.0182394806870847),\n",
       " ('B_Rd_dif', 0.01776696233147988),\n",
       " ('X_IonicRadius', 0.01749269550160197),\n",
       " ('X_Rs', 0.017321100226432892),\n",
       " ('X_MeltingPoint', 0.016427058515141042),\n",
       " ('A_IonicRadius', 0.010597966331196172)]"
      ]
     },
     "execution_count": 23,
     "metadata": {},
     "output_type": "execute_result"
    }
   ],
   "source": [
    "sorted(list(zip(X.columns, rand.best_estimator_.feature_importances_)),\n",
    "       key=lambda x: -x[1])"
   ]
  },
  {
   "cell_type": "markdown",
   "metadata": {
    "colab": {},
    "colab_type": "code",
    "id": "fJJWn-v5r6B0"
   },
   "source": [
    "Thank you for your time and attention in this workshop!"
   ]
  }
 ],
 "metadata": {
  "colab": {
   "collapsed_sections": [],
   "name": "Random-Forest.ipynb",
   "provenance": [],
   "version": "0.3.2"
  },
  "kernelspec": {
   "display_name": "Python 3",
   "language": "python",
   "name": "python3"
  },
  "language_info": {
   "codemirror_mode": {
    "name": "ipython",
    "version": 3
   },
   "file_extension": ".py",
   "mimetype": "text/x-python",
   "name": "python",
   "nbconvert_exporter": "python",
   "pygments_lexer": "ipython3",
   "version": "3.7.3"
  }
 },
 "nbformat": 4,
 "nbformat_minor": 1
}

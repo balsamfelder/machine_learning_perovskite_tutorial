{
 "cells": [
  {
   "cell_type": "markdown",
   "metadata": {},
   "source": [
    "# Machine Learning: K supercomputer double perovskite dataset\n",
    "\n",
    "## Part 1: data processing\n",
    "\n",
    "Welcome to this tutorial! This notebook follows from a lecture given at Cal State LA from the weeks of May 20 to May 24, 2019.\n",
    "\n",
    "Here is the game plan: We have an Excel file containing the chemical formulae of double perovskite materials, as well as their bandgaps, calculated via an accurate method (HSE hybrid functional with spin-orbit coupling).\n",
    "\n",
    "Each compound is a so-called 'double perovskite', with a chemical composition of the form $A_2 BB' X_6$, where $A$ is either a polyatomic ion or an alkali metal, $B$ is some atom, and $X$ is a halogen. \n",
    "\n",
    "We will use regular expressions to extract the specific atoms that make up the $A$, $B$, $B'$, and $X$ sites for each double perovskite, and generate atomic features. Then, we will use a machine learning algorithm to predict the band gap using atomic features."
   ]
  },
  {
   "cell_type": "markdown",
   "metadata": {},
   "source": [
    "The first step is to import `numpy` (for numerical operations), `pandas` (for handling data frames), and `pymatgen`, which contains atomic data.\n",
    "\n",
    "If you cannot import `pymatgen`, please install it first by typing `conda install -c matsci pymatgen`."
   ]
  },
  {
   "cell_type": "code",
   "execution_count": 1,
   "metadata": {},
   "outputs": [],
   "source": [
    "import numpy as np\n",
    "import pandas as pd\n",
    "from pymatgen.core.periodic_table import Element"
   ]
  },
  {
   "cell_type": "markdown",
   "metadata": {},
   "source": [
    "Let's read in the Excel file into a data frame:"
   ]
  },
  {
   "cell_type": "code",
   "execution_count": 2,
   "metadata": {},
   "outputs": [],
   "source": [
    "df = pd.read_excel('jz7b02203_si_002.xlsx')"
   ]
  },
  {
   "cell_type": "markdown",
   "metadata": {},
   "source": [
    "And then save it to a `pkl` file. This file will be a binary file, and considerably faster to load than the `xlsx` file, if you wish to re-run this notebook again."
   ]
  },
  {
   "cell_type": "code",
   "execution_count": 3,
   "metadata": {},
   "outputs": [],
   "source": [
    "df.to_pickle('df.pkl')"
   ]
  },
  {
   "cell_type": "markdown",
   "metadata": {},
   "source": [
    "Let us view some entries in this data frame. Use `df.head()` to see the first five entries. We can see some compounds of the form $A_4 B_4 X_{12}$:"
   ]
  },
  {
   "cell_type": "code",
   "execution_count": 4,
   "metadata": {},
   "outputs": [
    {
     "data": {
      "text/html": [
       "<div>\n",
       "<style scoped>\n",
       "    .dataframe tbody tr th:only-of-type {\n",
       "        vertical-align: middle;\n",
       "    }\n",
       "\n",
       "    .dataframe tbody tr th {\n",
       "        vertical-align: top;\n",
       "    }\n",
       "\n",
       "    .dataframe thead th {\n",
       "        text-align: right;\n",
       "    }\n",
       "</style>\n",
       "<table border=\"1\" class=\"dataframe\">\n",
       "  <thead>\n",
       "    <tr style=\"text-align: right;\">\n",
       "      <th></th>\n",
       "      <th>System</th>\n",
       "      <th>TotEne_PBE_Smear</th>\n",
       "      <th>TotEne_PBE_Nonsmear</th>\n",
       "      <th>TotEne_SOPBE</th>\n",
       "      <th>TotEne_SOHSE_Approx1</th>\n",
       "      <th>TotEne_SOHSE_Approx2</th>\n",
       "      <th>TotEne_SOHSE_Approx</th>\n",
       "      <th>DirectGap_PBE</th>\n",
       "      <th>DirectGap_SOPBE</th>\n",
       "      <th>DirectGap_SOHSE_Approx1</th>\n",
       "      <th>...</th>\n",
       "      <th>Ev_SOHSE_Approx1</th>\n",
       "      <th>Ev_SOHSE_Approx2</th>\n",
       "      <th>Ev_SOHSE_Approx</th>\n",
       "      <th>Ec_SOHSE_Approx1</th>\n",
       "      <th>Ec_SOHSE_Approx2</th>\n",
       "      <th>Ec_SOHSE_Approx</th>\n",
       "      <th>Mass_VBM</th>\n",
       "      <th>Mass_CBM</th>\n",
       "      <th>perovskite</th>\n",
       "      <th>nontoxicity</th>\n",
       "    </tr>\n",
       "  </thead>\n",
       "  <tbody>\n",
       "    <tr>\n",
       "      <th>0</th>\n",
       "      <td>C4N4H24Be4I12</td>\n",
       "      <td>-207.385597</td>\n",
       "      <td>-207.384168</td>\n",
       "      <td>NaN</td>\n",
       "      <td>NaN</td>\n",
       "      <td>NaN</td>\n",
       "      <td>NaN</td>\n",
       "      <td>4.307587</td>\n",
       "      <td>NaN</td>\n",
       "      <td>NaN</td>\n",
       "      <td>...</td>\n",
       "      <td>NaN</td>\n",
       "      <td>NaN</td>\n",
       "      <td>NaN</td>\n",
       "      <td>NaN</td>\n",
       "      <td>NaN</td>\n",
       "      <td>NaN</td>\n",
       "      <td>2.2336</td>\n",
       "      <td>-0.7022</td>\n",
       "      <td>No</td>\n",
       "      <td>Yes</td>\n",
       "    </tr>\n",
       "    <tr>\n",
       "      <th>1</th>\n",
       "      <td>C4N4H24B4I12</td>\n",
       "      <td>-210.442946</td>\n",
       "      <td>-210.832772</td>\n",
       "      <td>-212.426721</td>\n",
       "      <td>-291.679667</td>\n",
       "      <td>-291.748642</td>\n",
       "      <td>-291.748642</td>\n",
       "      <td>1.957007</td>\n",
       "      <td>1.829610</td>\n",
       "      <td>3.180325</td>\n",
       "      <td>...</td>\n",
       "      <td>-6.328621</td>\n",
       "      <td>-6.344494</td>\n",
       "      <td>-6.344494</td>\n",
       "      <td>-3.180668</td>\n",
       "      <td>-3.164795</td>\n",
       "      <td>-3.164795</td>\n",
       "      <td>3.3445</td>\n",
       "      <td>-43.1810</td>\n",
       "      <td>No</td>\n",
       "      <td>Yes</td>\n",
       "    </tr>\n",
       "    <tr>\n",
       "      <th>2</th>\n",
       "      <td>C4N4H24C4I12</td>\n",
       "      <td>-207.448155</td>\n",
       "      <td>-207.445549</td>\n",
       "      <td>-209.150007</td>\n",
       "      <td>-292.435476</td>\n",
       "      <td>-292.514091</td>\n",
       "      <td>-292.514091</td>\n",
       "      <td>0.769122</td>\n",
       "      <td>0.695907</td>\n",
       "      <td>1.840094</td>\n",
       "      <td>...</td>\n",
       "      <td>-5.889648</td>\n",
       "      <td>-5.890998</td>\n",
       "      <td>-5.890998</td>\n",
       "      <td>-4.049554</td>\n",
       "      <td>-4.048204</td>\n",
       "      <td>-4.048204</td>\n",
       "      <td>2.1819</td>\n",
       "      <td>-0.5658</td>\n",
       "      <td>No</td>\n",
       "      <td>Yes</td>\n",
       "    </tr>\n",
       "    <tr>\n",
       "      <th>3</th>\n",
       "      <td>C4N4H24N4I12</td>\n",
       "      <td>-206.031947</td>\n",
       "      <td>-206.276663</td>\n",
       "      <td>-208.090457</td>\n",
       "      <td>-295.760101</td>\n",
       "      <td>-295.822950</td>\n",
       "      <td>-295.822950</td>\n",
       "      <td>1.067985</td>\n",
       "      <td>1.003489</td>\n",
       "      <td>2.382841</td>\n",
       "      <td>...</td>\n",
       "      <td>-6.217354</td>\n",
       "      <td>-6.219469</td>\n",
       "      <td>-6.219469</td>\n",
       "      <td>-3.899306</td>\n",
       "      <td>-3.897190</td>\n",
       "      <td>-3.897190</td>\n",
       "      <td>2.9718</td>\n",
       "      <td>-7.5010</td>\n",
       "      <td>No</td>\n",
       "      <td>Yes</td>\n",
       "    </tr>\n",
       "    <tr>\n",
       "      <th>4</th>\n",
       "      <td>C4N4H24Mg4I12</td>\n",
       "      <td>-203.355980</td>\n",
       "      <td>-203.353890</td>\n",
       "      <td>-204.897868</td>\n",
       "      <td>-281.359832</td>\n",
       "      <td>-281.435270</td>\n",
       "      <td>-281.435270</td>\n",
       "      <td>1.774819</td>\n",
       "      <td>1.606697</td>\n",
       "      <td>2.878062</td>\n",
       "      <td>...</td>\n",
       "      <td>-6.118930</td>\n",
       "      <td>-6.129990</td>\n",
       "      <td>-6.129990</td>\n",
       "      <td>-3.240868</td>\n",
       "      <td>-3.229808</td>\n",
       "      <td>-3.229808</td>\n",
       "      <td>1.3698</td>\n",
       "      <td>-0.3258</td>\n",
       "      <td>Yes</td>\n",
       "      <td>Yes</td>\n",
       "    </tr>\n",
       "  </tbody>\n",
       "</table>\n",
       "<p>5 rows × 37 columns</p>\n",
       "</div>"
      ],
      "text/plain": [
       "          System  TotEne_PBE_Smear  TotEne_PBE_Nonsmear  TotEne_SOPBE  \\\n",
       "0  C4N4H24Be4I12       -207.385597          -207.384168           NaN   \n",
       "1   C4N4H24B4I12       -210.442946          -210.832772   -212.426721   \n",
       "2   C4N4H24C4I12       -207.448155          -207.445549   -209.150007   \n",
       "3   C4N4H24N4I12       -206.031947          -206.276663   -208.090457   \n",
       "4  C4N4H24Mg4I12       -203.355980          -203.353890   -204.897868   \n",
       "\n",
       "   TotEne_SOHSE_Approx1  TotEne_SOHSE_Approx2  TotEne_SOHSE_Approx  \\\n",
       "0                   NaN                   NaN                  NaN   \n",
       "1           -291.679667           -291.748642          -291.748642   \n",
       "2           -292.435476           -292.514091          -292.514091   \n",
       "3           -295.760101           -295.822950          -295.822950   \n",
       "4           -281.359832           -281.435270          -281.435270   \n",
       "\n",
       "   DirectGap_PBE  DirectGap_SOPBE  DirectGap_SOHSE_Approx1  ...  \\\n",
       "0       4.307587              NaN                      NaN  ...   \n",
       "1       1.957007         1.829610                 3.180325  ...   \n",
       "2       0.769122         0.695907                 1.840094  ...   \n",
       "3       1.067985         1.003489                 2.382841  ...   \n",
       "4       1.774819         1.606697                 2.878062  ...   \n",
       "\n",
       "   Ev_SOHSE_Approx1  Ev_SOHSE_Approx2  Ev_SOHSE_Approx  Ec_SOHSE_Approx1  \\\n",
       "0               NaN               NaN              NaN               NaN   \n",
       "1         -6.328621         -6.344494        -6.344494         -3.180668   \n",
       "2         -5.889648         -5.890998        -5.890998         -4.049554   \n",
       "3         -6.217354         -6.219469        -6.219469         -3.899306   \n",
       "4         -6.118930         -6.129990        -6.129990         -3.240868   \n",
       "\n",
       "   Ec_SOHSE_Approx2  Ec_SOHSE_Approx  Mass_VBM  Mass_CBM  perovskite  \\\n",
       "0               NaN              NaN    2.2336   -0.7022          No   \n",
       "1         -3.164795        -3.164795    3.3445  -43.1810          No   \n",
       "2         -4.048204        -4.048204    2.1819   -0.5658          No   \n",
       "3         -3.897190        -3.897190    2.9718   -7.5010          No   \n",
       "4         -3.229808        -3.229808    1.3698   -0.3258         Yes   \n",
       "\n",
       "   nontoxicity  \n",
       "0          Yes  \n",
       "1          Yes  \n",
       "2          Yes  \n",
       "3          Yes  \n",
       "4          Yes  \n",
       "\n",
       "[5 rows x 37 columns]"
      ]
     },
     "execution_count": 4,
     "metadata": {},
     "output_type": "execute_result"
    }
   ],
   "source": [
    "df.head()"
   ]
  },
  {
   "cell_type": "markdown",
   "metadata": {},
   "source": [
    "Use `df.tail()` to see the last five entries. It looks like these are of the form $A_4 B_2 B'_2 X_{12}$:"
   ]
  },
  {
   "cell_type": "code",
   "execution_count": 5,
   "metadata": {},
   "outputs": [
    {
     "data": {
      "text/html": [
       "<div>\n",
       "<style scoped>\n",
       "    .dataframe tbody tr th:only-of-type {\n",
       "        vertical-align: middle;\n",
       "    }\n",
       "\n",
       "    .dataframe tbody tr th {\n",
       "        vertical-align: top;\n",
       "    }\n",
       "\n",
       "    .dataframe thead th {\n",
       "        text-align: right;\n",
       "    }\n",
       "</style>\n",
       "<table border=\"1\" class=\"dataframe\">\n",
       "  <thead>\n",
       "    <tr style=\"text-align: right;\">\n",
       "      <th></th>\n",
       "      <th>System</th>\n",
       "      <th>TotEne_PBE_Smear</th>\n",
       "      <th>TotEne_PBE_Nonsmear</th>\n",
       "      <th>TotEne_SOPBE</th>\n",
       "      <th>TotEne_SOHSE_Approx1</th>\n",
       "      <th>TotEne_SOHSE_Approx2</th>\n",
       "      <th>TotEne_SOHSE_Approx</th>\n",
       "      <th>DirectGap_PBE</th>\n",
       "      <th>DirectGap_SOPBE</th>\n",
       "      <th>DirectGap_SOHSE_Approx1</th>\n",
       "      <th>...</th>\n",
       "      <th>Ev_SOHSE_Approx1</th>\n",
       "      <th>Ev_SOHSE_Approx2</th>\n",
       "      <th>Ev_SOHSE_Approx</th>\n",
       "      <th>Ec_SOHSE_Approx1</th>\n",
       "      <th>Ec_SOHSE_Approx2</th>\n",
       "      <th>Ec_SOHSE_Approx</th>\n",
       "      <th>Mass_VBM</th>\n",
       "      <th>Mass_CBM</th>\n",
       "      <th>perovskite</th>\n",
       "      <th>nontoxicity</th>\n",
       "    </tr>\n",
       "  </thead>\n",
       "  <tbody>\n",
       "    <tr>\n",
       "      <th>11020</th>\n",
       "      <td>Cs4Hg2Pb2Cl12</td>\n",
       "      <td>-64.830507</td>\n",
       "      <td>-64.677965</td>\n",
       "      <td>-66.024060</td>\n",
       "      <td>-119.383818</td>\n",
       "      <td>-119.811363</td>\n",
       "      <td>-119.811363</td>\n",
       "      <td>2.128673</td>\n",
       "      <td>2.041891</td>\n",
       "      <td>3.317036</td>\n",
       "      <td>...</td>\n",
       "      <td>-6.493482</td>\n",
       "      <td>-6.604364</td>\n",
       "      <td>-6.604364</td>\n",
       "      <td>-4.078386</td>\n",
       "      <td>-3.967504</td>\n",
       "      <td>-3.967504</td>\n",
       "      <td>0.5089</td>\n",
       "      <td>-0.2990</td>\n",
       "      <td>Yes</td>\n",
       "      <td>No</td>\n",
       "    </tr>\n",
       "    <tr>\n",
       "      <th>11021</th>\n",
       "      <td>Cs4Hg2Tl2Cl12</td>\n",
       "      <td>-60.418179</td>\n",
       "      <td>NaN</td>\n",
       "      <td>NaN</td>\n",
       "      <td>NaN</td>\n",
       "      <td>NaN</td>\n",
       "      <td>NaN</td>\n",
       "      <td>0.000000</td>\n",
       "      <td>NaN</td>\n",
       "      <td>NaN</td>\n",
       "      <td>...</td>\n",
       "      <td>NaN</td>\n",
       "      <td>NaN</td>\n",
       "      <td>NaN</td>\n",
       "      <td>NaN</td>\n",
       "      <td>NaN</td>\n",
       "      <td>NaN</td>\n",
       "      <td>NaN</td>\n",
       "      <td>NaN</td>\n",
       "      <td>Yes</td>\n",
       "      <td>No</td>\n",
       "    </tr>\n",
       "    <tr>\n",
       "      <th>11022</th>\n",
       "      <td>Cs4Tl2Bi2Cl12</td>\n",
       "      <td>-71.438912</td>\n",
       "      <td>-71.195789</td>\n",
       "      <td>-72.535615</td>\n",
       "      <td>-124.555184</td>\n",
       "      <td>-124.712130</td>\n",
       "      <td>-124.712130</td>\n",
       "      <td>1.912991</td>\n",
       "      <td>0.815462</td>\n",
       "      <td>2.005946</td>\n",
       "      <td>...</td>\n",
       "      <td>-6.155114</td>\n",
       "      <td>-6.158749</td>\n",
       "      <td>-6.158749</td>\n",
       "      <td>-4.149168</td>\n",
       "      <td>-4.145534</td>\n",
       "      <td>-4.145534</td>\n",
       "      <td>0.2150</td>\n",
       "      <td>-0.3949</td>\n",
       "      <td>Yes</td>\n",
       "      <td>No</td>\n",
       "    </tr>\n",
       "    <tr>\n",
       "      <th>11023</th>\n",
       "      <td>Cs4Tl2Pb2Cl12</td>\n",
       "      <td>-69.551930</td>\n",
       "      <td>NaN</td>\n",
       "      <td>NaN</td>\n",
       "      <td>NaN</td>\n",
       "      <td>NaN</td>\n",
       "      <td>NaN</td>\n",
       "      <td>0.000000</td>\n",
       "      <td>NaN</td>\n",
       "      <td>NaN</td>\n",
       "      <td>...</td>\n",
       "      <td>NaN</td>\n",
       "      <td>NaN</td>\n",
       "      <td>NaN</td>\n",
       "      <td>NaN</td>\n",
       "      <td>NaN</td>\n",
       "      <td>NaN</td>\n",
       "      <td>NaN</td>\n",
       "      <td>NaN</td>\n",
       "      <td>Yes</td>\n",
       "      <td>No</td>\n",
       "    </tr>\n",
       "    <tr>\n",
       "      <th>11024</th>\n",
       "      <td>Cs4Pb2Bi2Cl12</td>\n",
       "      <td>-71.608804</td>\n",
       "      <td>NaN</td>\n",
       "      <td>NaN</td>\n",
       "      <td>NaN</td>\n",
       "      <td>NaN</td>\n",
       "      <td>NaN</td>\n",
       "      <td>0.000000</td>\n",
       "      <td>NaN</td>\n",
       "      <td>NaN</td>\n",
       "      <td>...</td>\n",
       "      <td>NaN</td>\n",
       "      <td>NaN</td>\n",
       "      <td>NaN</td>\n",
       "      <td>NaN</td>\n",
       "      <td>NaN</td>\n",
       "      <td>NaN</td>\n",
       "      <td>NaN</td>\n",
       "      <td>NaN</td>\n",
       "      <td>Yes</td>\n",
       "      <td>No</td>\n",
       "    </tr>\n",
       "  </tbody>\n",
       "</table>\n",
       "<p>5 rows × 37 columns</p>\n",
       "</div>"
      ],
      "text/plain": [
       "              System  TotEne_PBE_Smear  TotEne_PBE_Nonsmear  TotEne_SOPBE  \\\n",
       "11020  Cs4Hg2Pb2Cl12        -64.830507           -64.677965    -66.024060   \n",
       "11021  Cs4Hg2Tl2Cl12        -60.418179                  NaN           NaN   \n",
       "11022  Cs4Tl2Bi2Cl12        -71.438912           -71.195789    -72.535615   \n",
       "11023  Cs4Tl2Pb2Cl12        -69.551930                  NaN           NaN   \n",
       "11024  Cs4Pb2Bi2Cl12        -71.608804                  NaN           NaN   \n",
       "\n",
       "       TotEne_SOHSE_Approx1  TotEne_SOHSE_Approx2  TotEne_SOHSE_Approx  \\\n",
       "11020           -119.383818           -119.811363          -119.811363   \n",
       "11021                   NaN                   NaN                  NaN   \n",
       "11022           -124.555184           -124.712130          -124.712130   \n",
       "11023                   NaN                   NaN                  NaN   \n",
       "11024                   NaN                   NaN                  NaN   \n",
       "\n",
       "       DirectGap_PBE  DirectGap_SOPBE  DirectGap_SOHSE_Approx1  ...  \\\n",
       "11020       2.128673         2.041891                 3.317036  ...   \n",
       "11021       0.000000              NaN                      NaN  ...   \n",
       "11022       1.912991         0.815462                 2.005946  ...   \n",
       "11023       0.000000              NaN                      NaN  ...   \n",
       "11024       0.000000              NaN                      NaN  ...   \n",
       "\n",
       "       Ev_SOHSE_Approx1  Ev_SOHSE_Approx2  Ev_SOHSE_Approx  Ec_SOHSE_Approx1  \\\n",
       "11020         -6.493482         -6.604364        -6.604364         -4.078386   \n",
       "11021               NaN               NaN              NaN               NaN   \n",
       "11022         -6.155114         -6.158749        -6.158749         -4.149168   \n",
       "11023               NaN               NaN              NaN               NaN   \n",
       "11024               NaN               NaN              NaN               NaN   \n",
       "\n",
       "       Ec_SOHSE_Approx2  Ec_SOHSE_Approx  Mass_VBM  Mass_CBM  perovskite  \\\n",
       "11020         -3.967504        -3.967504    0.5089   -0.2990         Yes   \n",
       "11021               NaN              NaN       NaN       NaN         Yes   \n",
       "11022         -4.145534        -4.145534    0.2150   -0.3949         Yes   \n",
       "11023               NaN              NaN       NaN       NaN         Yes   \n",
       "11024               NaN              NaN       NaN       NaN         Yes   \n",
       "\n",
       "       nontoxicity  \n",
       "11020           No  \n",
       "11021           No  \n",
       "11022           No  \n",
       "11023           No  \n",
       "11024           No  \n",
       "\n",
       "[5 rows x 37 columns]"
      ]
     },
     "execution_count": 5,
     "metadata": {},
     "output_type": "execute_result"
    }
   ],
   "source": [
    "df.tail()"
   ]
  },
  {
   "cell_type": "markdown",
   "metadata": {},
   "source": [
    "We only care about the chemical formulae (`System`) and the bandgap (`LowGap_SOHSE_Approx`).\n",
    "\n",
    "In `System`, we have the chemical formula of each double perovskite. Although the chemical formula is written as $A_2BB'X_6$, there are two formula units in the unit cell, so it is written as $A_4B_2B'_2X_{12}$ in the Excel file. In some compounds, $B$ and $B'$ are the same element; in these cases, it is written as $A_4 B_4 X_{12}$.\n",
    "\n",
    "`SO` refers to spin-orbit coupling, `HSE` refers to the hybrid functional (developed by Heyd, Scuseria, and Ernzerhof), and `LowGap` means the minimum of the direct gap and indirect gap.\n",
    "\n",
    "Thus, let's remove the unnecessary columns:"
   ]
  },
  {
   "cell_type": "code",
   "execution_count": 6,
   "metadata": {},
   "outputs": [],
   "source": [
    "df = df[['System', 'LowGap_SOHSE_Approx']]"
   ]
  },
  {
   "cell_type": "markdown",
   "metadata": {},
   "source": [
    "Let us also remove the `NaN` values.\n",
    "\n",
    "Let us also remove the values for which the band gap is negative (negative values for the band gap do not make physical sense)."
   ]
  },
  {
   "cell_type": "code",
   "execution_count": 7,
   "metadata": {},
   "outputs": [],
   "source": [
    "# Remove NaN values\n",
    "df = df.dropna()\n",
    "\n",
    "# Remove negative band gap values\n",
    "df = df[df['LowGap_SOHSE_Approx'] >= 0]"
   ]
  },
  {
   "cell_type": "code",
   "execution_count": 8,
   "metadata": {},
   "outputs": [
    {
     "data": {
      "text/plain": [
       "array([[<matplotlib.axes._subplots.AxesSubplot object at 0x11029d3c8>]],\n",
       "      dtype=object)"
      ]
     },
     "execution_count": 8,
     "metadata": {},
     "output_type": "execute_result"
    },
    {
     "data": {
      "image/png": "[encoded data removed]",
      "text/plain": [
       "<Figure size 432x288 with 1 Axes>"
      ]
     },
     "metadata": {
      "needs_background": "light"
     },
     "output_type": "display_data"
    }
   ],
   "source": [
    "# Make a histogram\n",
    "%matplotlib inline\n",
    "df.hist()"
   ]
  },
  {
   "cell_type": "markdown",
   "metadata": {
    "scrolled": true
   },
   "source": [
    "Now, we wish to use regular expressions to extract the $A$, $B$, $B'$, and the $X$ sites.\n",
    "\n",
    "For the $A$ sites, there are three different kinds of ions: methylammonium (written as `C4N4H24`), formamidinium (written as `C4N8H20`), and caesium (written as `Cs4`). Note that there are four of these ions in the unit cell; hence, everything is multiplied by 4.\n",
    "\n",
    "We can use a regular expresssion to match for any of these three atoms: `C4N4H24|C4N8H20|Cs`.\n",
    "\n",
    "Using the `pandas.DataFrame.str.extract` method, we can use a regular expression to match `C4N4H24|C4N8H20|Cs`, returning a `Series` object. We need to wrap this in parentheses for `extract` to match the pattern. For `extract` to interpret the string as a regular expression, we prefix an `r` before the string.\n",
    "\n",
    "For convenience, we will rename the ions to abbreviated names. When the `pandas.DataFrame.replace` method takes in two strings, the first string is the string to replace, and the secon is the string that will be put in in place of the original string. `inplace=True` specifies that we wish to modify the object itself, rather than a copy."
   ]
  },
  {
   "cell_type": "code",
   "execution_count": 9,
   "metadata": {},
   "outputs": [
    {
     "data": {
      "text/html": [
       "<div>\n",
       "<style scoped>\n",
       "    .dataframe tbody tr th:only-of-type {\n",
       "        vertical-align: middle;\n",
       "    }\n",
       "\n",
       "    .dataframe tbody tr th {\n",
       "        vertical-align: top;\n",
       "    }\n",
       "\n",
       "    .dataframe thead th {\n",
       "        text-align: right;\n",
       "    }\n",
       "</style>\n",
       "<table border=\"1\" class=\"dataframe\">\n",
       "  <thead>\n",
       "    <tr style=\"text-align: right;\">\n",
       "      <th></th>\n",
       "      <th>0</th>\n",
       "    </tr>\n",
       "  </thead>\n",
       "  <tbody>\n",
       "    <tr>\n",
       "      <th>1</th>\n",
       "      <td>MA</td>\n",
       "    </tr>\n",
       "    <tr>\n",
       "      <th>2</th>\n",
       "      <td>MA</td>\n",
       "    </tr>\n",
       "    <tr>\n",
       "      <th>3</th>\n",
       "      <td>MA</td>\n",
       "    </tr>\n",
       "    <tr>\n",
       "      <th>4</th>\n",
       "      <td>MA</td>\n",
       "    </tr>\n",
       "    <tr>\n",
       "      <th>5</th>\n",
       "      <td>MA</td>\n",
       "    </tr>\n",
       "  </tbody>\n",
       "</table>\n",
       "</div>"
      ],
      "text/plain": [
       "    0\n",
       "1  MA\n",
       "2  MA\n",
       "3  MA\n",
       "4  MA\n",
       "5  MA"
      ]
     },
     "execution_count": 9,
     "metadata": {},
     "output_type": "execute_result"
    }
   ],
   "source": [
    "a_sites = df['System'].str.extract(r'(C4N4H24|C4N8H20|Cs4)')\n",
    "\n",
    "a_sites.replace('C4N4H24', 'MA', inplace=True)\n",
    "a_sites.replace('C4N8H20', 'FA', inplace=True)\n",
    "a_sites.replace('Cs4', 'Cs', inplace=True)\n",
    "a_sites.head()"
   ]
  },
  {
   "cell_type": "markdown",
   "metadata": {},
   "source": [
    "Then, we will save this `a_sites` into a column into `df`."
   ]
  },
  {
   "cell_type": "code",
   "execution_count": 10,
   "metadata": {},
   "outputs": [],
   "source": [
    "df['A_sites'] = a_sites"
   ]
  },
  {
   "cell_type": "markdown",
   "metadata": {},
   "source": [
    "Now, we need to get the $B$ site.\n",
    "\n",
    "The problem is that we need to differentiate the compounds written as $A_4B_2B'_2X_{12}$ (which we will call `true_dbls`) with the compounds written as $A_4B_4X_{12}$ (which we call `false_dbls`).\n",
    "\n",
    "Our plan is to handle these two cases separately, and then join them into one data frame agai\n",
    "We can use a method called `pandas.DataFrame.str.contains` which returns a `Series` object containing boolean values, based of a regular expression query, which will check if it is of the form for `true_dbls`. We can then use boolean indexing based off of this `Series`.\n",
    "\n",
    "What we need to do is see if there is a sequence of alphabetical characters, followed by a `2`, followed by another sequence of alphabetical characters, followed by another `2`. We can check for a group of alphabetical characters by using `[a-zA-Z]`, and we can match for a sequence of characters by using `+`. We can use a lookahead `(?=pattern)` to check if `pattern` is ahead of this group of alphabetical characters. In this case, we'll check if there is a `2`, followed by another `[a-zA-Z]+` and then another `2`.\n",
    "\n",
    "We will use `.copy()` to avoid modifying the original data frame."
   ]
  },
  {
   "cell_type": "code",
   "execution_count": 11,
   "metadata": {},
   "outputs": [
    {
     "data": {
      "text/html": [
       "<div>\n",
       "<style scoped>\n",
       "    .dataframe tbody tr th:only-of-type {\n",
       "        vertical-align: middle;\n",
       "    }\n",
       "\n",
       "    .dataframe tbody tr th {\n",
       "        vertical-align: top;\n",
       "    }\n",
       "\n",
       "    .dataframe thead th {\n",
       "        text-align: right;\n",
       "    }\n",
       "</style>\n",
       "<table border=\"1\" class=\"dataframe\">\n",
       "  <thead>\n",
       "    <tr style=\"text-align: right;\">\n",
       "      <th></th>\n",
       "      <th>System</th>\n",
       "      <th>LowGap_SOHSE_Approx</th>\n",
       "      <th>A_sites</th>\n",
       "    </tr>\n",
       "  </thead>\n",
       "  <tbody>\n",
       "    <tr>\n",
       "      <th>50</th>\n",
       "      <td>C4N4H24Be2Pb2I12</td>\n",
       "      <td>3.190090</td>\n",
       "      <td>MA</td>\n",
       "    </tr>\n",
       "    <tr>\n",
       "      <th>52</th>\n",
       "      <td>C4N4H24Be2Hg2I12</td>\n",
       "      <td>3.111010</td>\n",
       "      <td>MA</td>\n",
       "    </tr>\n",
       "    <tr>\n",
       "      <th>54</th>\n",
       "      <td>C4N4H24Be2Pt2I12</td>\n",
       "      <td>2.524556</td>\n",
       "      <td>MA</td>\n",
       "    </tr>\n",
       "    <tr>\n",
       "      <th>60</th>\n",
       "      <td>C4N4H24Be2Hf2I12</td>\n",
       "      <td>3.055102</td>\n",
       "      <td>MA</td>\n",
       "    </tr>\n",
       "    <tr>\n",
       "      <th>61</th>\n",
       "      <td>C4N4H24Be2Ba2I12</td>\n",
       "      <td>4.566838</td>\n",
       "      <td>MA</td>\n",
       "    </tr>\n",
       "  </tbody>\n",
       "</table>\n",
       "</div>"
      ],
      "text/plain": [
       "              System  LowGap_SOHSE_Approx A_sites\n",
       "50  C4N4H24Be2Pb2I12             3.190090      MA\n",
       "52  C4N4H24Be2Hg2I12             3.111010      MA\n",
       "54  C4N4H24Be2Pt2I12             2.524556      MA\n",
       "60  C4N4H24Be2Hf2I12             3.055102      MA\n",
       "61  C4N4H24Be2Ba2I12             4.566838      MA"
      ]
     },
     "execution_count": 11,
     "metadata": {},
     "output_type": "execute_result"
    }
   ],
   "source": [
    "true_dbls = df[df['System'].str.contains(r'[a-zA-Z]+(?=2[a-zA-Z]+2)')].copy()\n",
    "true_dbls.head()"
   ]
  },
  {
   "cell_type": "markdown",
   "metadata": {},
   "source": [
    "Then, we will use `extract` to actually find the group of characters that precedes the lookahead.\n",
    "\n",
    "We will write the appropriate regular expressions to find $B$ and $B'$ sites.\n",
    "\n",
    "For $B$ site: `([a-zA-Z]+)(?=2[a-zA-Z]+2)` (a group of alphabetical characters; look ahead for `2`, followed by another group of alphabetical characters, followed by another `2`).\n",
    "\n",
    "For $B'$ site: `([a-zA-Z]+)(?=2[a-zA-Z]+12)` (a group of alphabetical characters; look ahead for `2`, followed by another group of alphabetical characters, followed by `12`)."
   ]
  },
  {
   "cell_type": "code",
   "execution_count": 12,
   "metadata": {},
   "outputs": [
    {
     "data": {
      "text/html": [
       "<div>\n",
       "<style scoped>\n",
       "    .dataframe tbody tr th:only-of-type {\n",
       "        vertical-align: middle;\n",
       "    }\n",
       "\n",
       "    .dataframe tbody tr th {\n",
       "        vertical-align: top;\n",
       "    }\n",
       "\n",
       "    .dataframe thead th {\n",
       "        text-align: right;\n",
       "    }\n",
       "</style>\n",
       "<table border=\"1\" class=\"dataframe\">\n",
       "  <thead>\n",
       "    <tr style=\"text-align: right;\">\n",
       "      <th></th>\n",
       "      <th>System</th>\n",
       "      <th>LowGap_SOHSE_Approx</th>\n",
       "      <th>A_sites</th>\n",
       "      <th>B_sites</th>\n",
       "      <th>B_prime_sites</th>\n",
       "    </tr>\n",
       "  </thead>\n",
       "  <tbody>\n",
       "    <tr>\n",
       "      <th>50</th>\n",
       "      <td>C4N4H24Be2Pb2I12</td>\n",
       "      <td>3.190090</td>\n",
       "      <td>MA</td>\n",
       "      <td>Be</td>\n",
       "      <td>Pb</td>\n",
       "    </tr>\n",
       "    <tr>\n",
       "      <th>52</th>\n",
       "      <td>C4N4H24Be2Hg2I12</td>\n",
       "      <td>3.111010</td>\n",
       "      <td>MA</td>\n",
       "      <td>Be</td>\n",
       "      <td>Hg</td>\n",
       "    </tr>\n",
       "    <tr>\n",
       "      <th>54</th>\n",
       "      <td>C4N4H24Be2Pt2I12</td>\n",
       "      <td>2.524556</td>\n",
       "      <td>MA</td>\n",
       "      <td>Be</td>\n",
       "      <td>Pt</td>\n",
       "    </tr>\n",
       "    <tr>\n",
       "      <th>60</th>\n",
       "      <td>C4N4H24Be2Hf2I12</td>\n",
       "      <td>3.055102</td>\n",
       "      <td>MA</td>\n",
       "      <td>Be</td>\n",
       "      <td>Hf</td>\n",
       "    </tr>\n",
       "    <tr>\n",
       "      <th>61</th>\n",
       "      <td>C4N4H24Be2Ba2I12</td>\n",
       "      <td>4.566838</td>\n",
       "      <td>MA</td>\n",
       "      <td>Be</td>\n",
       "      <td>Ba</td>\n",
       "    </tr>\n",
       "  </tbody>\n",
       "</table>\n",
       "</div>"
      ],
      "text/plain": [
       "              System  LowGap_SOHSE_Approx A_sites B_sites B_prime_sites\n",
       "50  C4N4H24Be2Pb2I12             3.190090      MA      Be            Pb\n",
       "52  C4N4H24Be2Hg2I12             3.111010      MA      Be            Hg\n",
       "54  C4N4H24Be2Pt2I12             2.524556      MA      Be            Pt\n",
       "60  C4N4H24Be2Hf2I12             3.055102      MA      Be            Hf\n",
       "61  C4N4H24Be2Ba2I12             4.566838      MA      Be            Ba"
      ]
     },
     "execution_count": 12,
     "metadata": {},
     "output_type": "execute_result"
    }
   ],
   "source": [
    "# match a group of alphabetical chars\n",
    "# followed by a 2, another group of alphabetical chars,\n",
    "# and then another 2\n",
    "b_sites = true_dbls['System'].str.extract(r'([a-zA-Z]+)(?=2[a-zA-Z]+2)')\n",
    "b_sites\n",
    "# match a group of alphabetical chars\n",
    "# followed by a 2, another group of alphabetical chars,\n",
    "# and then a 12\n",
    "b_prime_sites = true_dbls['System'].str.extract(r'([a-zA-Z]+)(?=2[a-zA-Z]+12)')\n",
    "b_prime_sites\n",
    "\n",
    "true_dbls['B_sites'] = b_sites\n",
    "true_dbls['B_prime_sites'] = b_prime_sites\n",
    "\n",
    "true_dbls.head()"
   ]
  },
  {
   "cell_type": "markdown",
   "metadata": {},
   "source": [
    "We can negate the condition for boolean indexing by using a `~`. This will give us the `false_dbls`. Note that here, $B$ and $B'$ are the same."
   ]
  },
  {
   "cell_type": "code",
   "execution_count": 13,
   "metadata": {
    "scrolled": true
   },
   "outputs": [
    {
     "data": {
      "text/html": [
       "<div>\n",
       "<style scoped>\n",
       "    .dataframe tbody tr th:only-of-type {\n",
       "        vertical-align: middle;\n",
       "    }\n",
       "\n",
       "    .dataframe tbody tr th {\n",
       "        vertical-align: top;\n",
       "    }\n",
       "\n",
       "    .dataframe thead th {\n",
       "        text-align: right;\n",
       "    }\n",
       "</style>\n",
       "<table border=\"1\" class=\"dataframe\">\n",
       "  <thead>\n",
       "    <tr style=\"text-align: right;\">\n",
       "      <th></th>\n",
       "      <th>System</th>\n",
       "      <th>LowGap_SOHSE_Approx</th>\n",
       "      <th>A_sites</th>\n",
       "      <th>B_sites</th>\n",
       "      <th>B_prime_sites</th>\n",
       "    </tr>\n",
       "  </thead>\n",
       "  <tbody>\n",
       "    <tr>\n",
       "      <th>1</th>\n",
       "      <td>C4N4H24B4I12</td>\n",
       "      <td>3.179699</td>\n",
       "      <td>MA</td>\n",
       "      <td>B</td>\n",
       "      <td>B</td>\n",
       "    </tr>\n",
       "    <tr>\n",
       "      <th>2</th>\n",
       "      <td>C4N4H24C4I12</td>\n",
       "      <td>1.842794</td>\n",
       "      <td>MA</td>\n",
       "      <td>C</td>\n",
       "      <td>C</td>\n",
       "    </tr>\n",
       "    <tr>\n",
       "      <th>3</th>\n",
       "      <td>C4N4H24N4I12</td>\n",
       "      <td>2.322279</td>\n",
       "      <td>MA</td>\n",
       "      <td>N</td>\n",
       "      <td>N</td>\n",
       "    </tr>\n",
       "    <tr>\n",
       "      <th>4</th>\n",
       "      <td>C4N4H24Mg4I12</td>\n",
       "      <td>2.900182</td>\n",
       "      <td>MA</td>\n",
       "      <td>Mg</td>\n",
       "      <td>Mg</td>\n",
       "    </tr>\n",
       "    <tr>\n",
       "      <th>5</th>\n",
       "      <td>C4N4H24Al4I12</td>\n",
       "      <td>2.038116</td>\n",
       "      <td>MA</td>\n",
       "      <td>Al</td>\n",
       "      <td>Al</td>\n",
       "    </tr>\n",
       "  </tbody>\n",
       "</table>\n",
       "</div>"
      ],
      "text/plain": [
       "          System  LowGap_SOHSE_Approx A_sites B_sites B_prime_sites\n",
       "1   C4N4H24B4I12             3.179699      MA       B             B\n",
       "2   C4N4H24C4I12             1.842794      MA       C             C\n",
       "3   C4N4H24N4I12             2.322279      MA       N             N\n",
       "4  C4N4H24Mg4I12             2.900182      MA      Mg            Mg\n",
       "5  C4N4H24Al4I12             2.038116      MA      Al            Al"
      ]
     },
     "execution_count": 13,
     "metadata": {},
     "output_type": "execute_result"
    }
   ],
   "source": [
    "false_dbls = df[~df['System'].str.contains(r'[a-zA-Z]+(?=2[a-zA-Z]+2)')].copy()\n",
    "\n",
    "b_sites = false_dbls['System'].str.extract(r'([a-zA-Z]+)(?=4[a-zA-Z]+12)')\n",
    "\n",
    "false_dbls['B_sites'] = b_sites\n",
    "false_dbls['B_prime_sites'] = b_sites\n",
    "\n",
    "false_dbls.head()"
   ]
  },
  {
   "cell_type": "markdown",
   "metadata": {},
   "source": [
    "Concatenate `true_dbls` with `false_dbls` by using `pandas.concat`, and use regular expressions to find a group of characters followed by a `12` (the $X$ site)."
   ]
  },
  {
   "cell_type": "code",
   "execution_count": 14,
   "metadata": {},
   "outputs": [
    {
     "data": {
      "text/html": [
       "<div>\n",
       "<style scoped>\n",
       "    .dataframe tbody tr th:only-of-type {\n",
       "        vertical-align: middle;\n",
       "    }\n",
       "\n",
       "    .dataframe tbody tr th {\n",
       "        vertical-align: top;\n",
       "    }\n",
       "\n",
       "    .dataframe thead th {\n",
       "        text-align: right;\n",
       "    }\n",
       "</style>\n",
       "<table border=\"1\" class=\"dataframe\">\n",
       "  <thead>\n",
       "    <tr style=\"text-align: right;\">\n",
       "      <th></th>\n",
       "      <th>System</th>\n",
       "      <th>LowGap_SOHSE_Approx</th>\n",
       "      <th>A_sites</th>\n",
       "      <th>B_sites</th>\n",
       "      <th>B_prime_sites</th>\n",
       "      <th>X_sites</th>\n",
       "    </tr>\n",
       "  </thead>\n",
       "  <tbody>\n",
       "    <tr>\n",
       "      <th>50</th>\n",
       "      <td>C4N4H24Be2Pb2I12</td>\n",
       "      <td>3.190090</td>\n",
       "      <td>MA</td>\n",
       "      <td>Be</td>\n",
       "      <td>Pb</td>\n",
       "      <td>I</td>\n",
       "    </tr>\n",
       "    <tr>\n",
       "      <th>52</th>\n",
       "      <td>C4N4H24Be2Hg2I12</td>\n",
       "      <td>3.111010</td>\n",
       "      <td>MA</td>\n",
       "      <td>Be</td>\n",
       "      <td>Hg</td>\n",
       "      <td>I</td>\n",
       "    </tr>\n",
       "    <tr>\n",
       "      <th>54</th>\n",
       "      <td>C4N4H24Be2Pt2I12</td>\n",
       "      <td>2.524556</td>\n",
       "      <td>MA</td>\n",
       "      <td>Be</td>\n",
       "      <td>Pt</td>\n",
       "      <td>I</td>\n",
       "    </tr>\n",
       "    <tr>\n",
       "      <th>60</th>\n",
       "      <td>C4N4H24Be2Hf2I12</td>\n",
       "      <td>3.055102</td>\n",
       "      <td>MA</td>\n",
       "      <td>Be</td>\n",
       "      <td>Hf</td>\n",
       "      <td>I</td>\n",
       "    </tr>\n",
       "    <tr>\n",
       "      <th>61</th>\n",
       "      <td>C4N4H24Be2Ba2I12</td>\n",
       "      <td>4.566838</td>\n",
       "      <td>MA</td>\n",
       "      <td>Be</td>\n",
       "      <td>Ba</td>\n",
       "      <td>I</td>\n",
       "    </tr>\n",
       "  </tbody>\n",
       "</table>\n",
       "</div>"
      ],
      "text/plain": [
       "              System  LowGap_SOHSE_Approx A_sites B_sites B_prime_sites  \\\n",
       "50  C4N4H24Be2Pb2I12             3.190090      MA      Be            Pb   \n",
       "52  C4N4H24Be2Hg2I12             3.111010      MA      Be            Hg   \n",
       "54  C4N4H24Be2Pt2I12             2.524556      MA      Be            Pt   \n",
       "60  C4N4H24Be2Hf2I12             3.055102      MA      Be            Hf   \n",
       "61  C4N4H24Be2Ba2I12             4.566838      MA      Be            Ba   \n",
       "\n",
       "   X_sites  \n",
       "50       I  \n",
       "52       I  \n",
       "54       I  \n",
       "60       I  \n",
       "61       I  "
      ]
     },
     "execution_count": 14,
     "metadata": {},
     "output_type": "execute_result"
    }
   ],
   "source": [
    "df_new = pd.concat([true_dbls, false_dbls], sort=False)\n",
    "\n",
    "x_sites = df_new['System'].str.extract(r'([a-zA-Z]+)(?=12)')\n",
    "df_new['X_sites'] = x_sites\n",
    "\n",
    "df_new.head()"
   ]
  },
  {
   "cell_type": "markdown",
   "metadata": {},
   "source": [
    "We will now create dictionaries, with the atomic symbol (such as `Cs`) as the key, and the desired property as a value. We do this because `pandas.DataFrame.replace` can take dictionaries. This can help us create columns with the desired properties for each compound.\n",
    "\n",
    "Create a dictionary of ionic radii using `pymatgen`. `Element.from_Z` creates an `Element` object from atomic number, from which we can extract properties such as the ionic radius. \n",
    "\n",
    "For methylammonium and formamidinium, we will use results from a paper by [Kieslich *et al.*](https://pubs.rsc.org/en/content/articlelanding/2014/sc/c4sc02211d#!divAbstract) (*Chem. Sci.* **2014**, *5*, 4712)."
   ]
  },
  {
   "cell_type": "code",
   "execution_count": 15,
   "metadata": {},
   "outputs": [],
   "source": [
    "IONIC_R_DICT = {Element.from_Z(i).symbol:\n",
    "                Element.from_Z(i).average_ionic_radius\n",
    "                for i in range(1, 93)}\n",
    "\n",
    "# Kieslich et al. Chem. Sci. 2014, 5, 4712\n",
    "IONIC_R_DICT['MA'] = 2.17\n",
    "IONIC_R_DICT['FA'] = 2.53"
   ]
  },
  {
   "cell_type": "markdown",
   "metadata": {},
   "source": [
    "Create similar dictionaries for electronegativity, boiling point and melting point. Note that for electronegativity, `pymatgen` uses the capital letter `X` (this is because electronegativity is sometimes written using the Greek letter $\\chi$ 'chi')."
   ]
  },
  {
   "cell_type": "code",
   "execution_count": 16,
   "metadata": {},
   "outputs": [
    {
     "name": "stderr",
     "output_type": "stream",
     "text": [
      "/Users/kawazu/.anaconda3/lib/python3.7/site-packages/pymatgen/core/periodic_table.py:427: UserWarning: No electronegativity for He. Setting to NaN. This has no physical meaning, and is mainly done to avoid errors caused by the code expecting a float.\n",
      "  % self.symbol)\n",
      "/Users/kawazu/.anaconda3/lib/python3.7/site-packages/pymatgen/core/periodic_table.py:427: UserWarning: No electronegativity for Ne. Setting to NaN. This has no physical meaning, and is mainly done to avoid errors caused by the code expecting a float.\n",
      "  % self.symbol)\n",
      "/Users/kawazu/.anaconda3/lib/python3.7/site-packages/pymatgen/core/periodic_table.py:427: UserWarning: No electronegativity for Ar. Setting to NaN. This has no physical meaning, and is mainly done to avoid errors caused by the code expecting a float.\n",
      "  % self.symbol)\n"
     ]
    }
   ],
   "source": [
    "# Electronegativity -- 'Chi'\n",
    "ENEG_DICT = {Element.from_Z(i).symbol:\n",
    "             Element.from_Z(i).X for i in range(1, 93)}\n",
    "\n",
    "BOIL_DICT = {Element.from_Z(i).symbol:\n",
    "             Element.from_Z(i).boiling_point\n",
    "             if Element.from_Z(i).boiling_point\n",
    "             else 0 for i in range(1, 93)}\n",
    "\n",
    "MELT_DICT = {Element.from_Z(i).symbol:\n",
    "             Element.from_Z(i).melting_point\n",
    "             if type(Element.from_Z(i).melting_point) != str\n",
    "             else 300. for i in range(1, 93)}"
   ]
  },
  {
   "cell_type": "markdown",
   "metadata": {},
   "source": [
    "Read in a file for the Zunger valence radii $R_s$, $R_p$, and $R_d$, with which we can make a dictionary, of which we can generate a column of features."
   ]
  },
  {
   "cell_type": "code",
   "execution_count": 17,
   "metadata": {},
   "outputs": [],
   "source": [
    "zvr = pd.read_csv('zungervalenceradius.csv.txt')\n",
    "\n",
    "RS_DICT = {zvr.loc[i]['Element']:\n",
    "           zvr.loc[i]['Rs'] for i in zvr.index}\n",
    "\n",
    "RP_DICT = {zvr.loc[i]['Element']:\n",
    "           zvr.loc[i]['Rp'] for i in zvr.index}\n",
    "\n",
    "RD_DICT = {zvr.loc[i]['Element']:\n",
    "           zvr.loc[i]['Rd'] for i in zvr.index}"
   ]
  },
  {
   "cell_type": "markdown",
   "metadata": {},
   "source": [
    "Read in another file for the (first) ionization potentials, and make a dictionary out of this."
   ]
  },
  {
   "cell_type": "code",
   "execution_count": 18,
   "metadata": {},
   "outputs": [],
   "source": [
    "ip = pd.read_csv('ion.csv', sep=';',\n",
    "                 header=None,\n",
    "                 names=['Z', 'Element',\n",
    "                        'IP1', 'IP2', 'IP3'])\n",
    "\n",
    "IP_DICT = {ip.loc[i]['Element']:\n",
    "           ip.loc[i]['IP1'] for i in ip.index}"
   ]
  },
  {
   "cell_type": "markdown",
   "metadata": {},
   "source": [
    "Next, we wil make a function `get_quant` that add columns for each feature, modifying `df` inplace. It will take in the `df` we wish to modify, the feature dictionary, the column title, and the kind of site, and use `pandas.DataFrame.replace` to add the desired column of features with the specified title, prefixed by the kind of site.\n",
    "\n",
    "Note that for every $B$ site features, we use a symmetric representation. The choice of which is $B$ and which $B'$ is simply alphabetical and hence arbitrary, and we wish for the model to see the same features if $B$ and $B'$ are reversed.\n",
    "\n",
    "Hence, for every $B$ site feature $f_B$ and $B'$ site feature $f_{B'}$, we return the sum $f_B + f_{B'}$ and the absolute difference $|f_B - f_{B'}|$."
   ]
  },
  {
   "cell_type": "code",
   "execution_count": 19,
   "metadata": {},
   "outputs": [],
   "source": [
    "# data frame, feature dictionary, title of column, kind of site\n",
    "# --> modify the data frame inplace\n",
    "\n",
    "def get_quant(df, feat_dict, title, kind):\n",
    "    if kind == 'A':\n",
    "        df['A_' + title] = df['A_sites'].replace(feat_dict)\n",
    "    elif kind == 'B':\n",
    "        summ = (df['B_sites'].replace(feat_dict) +\n",
    "                df['B_prime_sites'].replace(feat_dict))\n",
    "        dif = np.abs(df['B_sites'].replace(feat_dict) -\n",
    "                     df['B_prime_sites'].replace(feat_dict))\n",
    "        df['B_' + title + '_sum'] = summ\n",
    "        df['B_' + title + '_dif'] = dif\n",
    "    elif kind == 'X':\n",
    "        df['X_' + title] = df['X_sites'].replace(feat_dict)       "
   ]
  },
  {
   "cell_type": "markdown",
   "metadata": {},
   "source": [
    "Then we will call this function `get_quant` on the features we wish to use. For all of these features (except the ionic radius), we cannot use them on the $A$ site, as some of these quantities are not well defined or not available for polyatomic ions."
   ]
  },
  {
   "cell_type": "code",
   "execution_count": 20,
   "metadata": {},
   "outputs": [],
   "source": [
    "desired_features = [(IONIC_R_DICT, 'IonicRadius'),\n",
    "                    (ENEG_DICT, 'Electronegativity'),\n",
    "                    (BOIL_DICT, 'BoilingPoint'),\n",
    "                    (MELT_DICT, 'MeltingPoint'),\n",
    "                    (RS_DICT, 'Rs'),\n",
    "                    (RP_DICT, 'Rp'),\n",
    "                    (RD_DICT, 'Rd'),\n",
    "                    (IP_DICT, 'FirstIonizationPotential')]\n",
    "\n",
    "for feat_dict, title in desired_features:\n",
    "    get_quant(df_new, feat_dict, title, 'B')\n",
    "    get_quant(df_new, feat_dict, title, 'X')"
   ]
  },
  {
   "cell_type": "code",
   "execution_count": 21,
   "metadata": {},
   "outputs": [],
   "source": [
    "# Generate the atomic radius for the A site\n",
    "\n",
    "get_quant(df_new, IONIC_R_DICT, 'IonicRadius', 'A')"
   ]
  },
  {
   "cell_type": "markdown",
   "metadata": {},
   "source": [
    "Finally, we will make one final feature, which is the tolerance factor. Let's make a function `get_tolerance_factor` that does this.\n",
    "\n",
    "This gives some information as to what kind of crystal structure the perovskite will adopt. For a given perovskite with $A$, $B$, and $X$ sites, the tolerance factor $t$ is given by\n",
    "\n",
    "$$ t = {R_A + R_X \\over \\sqrt{2} \\cdot (R_B + R_X)} $$\n",
    "\n",
    "where $R_A$, $R_B$, and $R_X$ are the ionic radii of the $A$, $B$, and $X$, sites, respectively.\n",
    "\n",
    "Since we have both $B$ and $B'$ sites, we calculate the tolerance factor for $B$ site ($t_B$) and the tolerance factor $B'$ site ($t_{B'}$). Again, we use the same trick from earlier to generate two symmetrized features; $t_B + t_{B'}$ and $|t_B - t_{B'}|$."
   ]
  },
  {
   "cell_type": "code",
   "execution_count": 22,
   "metadata": {},
   "outputs": [],
   "source": [
    "# (Ra + Rx) / (np.sqrt(2) * (Rb + Rx))\n",
    "def get_tolerance_factor(df, title='ToleranceFactor'):\n",
    "    Ra = df['A_sites'].replace(IONIC_R_DICT)\n",
    "    Rb = df['B_sites'].replace(IONIC_R_DICT)\n",
    "    Rbp =  df['B_prime_sites'].replace(IONIC_R_DICT)\n",
    "    Rx = df['X_sites'].replace(IONIC_R_DICT)\n",
    "    \n",
    "    df[title + '_sum'] = (\n",
    "        (Ra + Rx) / (np.sqrt(2) * (Rb + Rx)) +\n",
    "        (Ra + Rx) / (np.sqrt(2) * (Rbp + Rx))\n",
    "    )\n",
    "\n",
    "    df[title + '_dif'] = np.abs(\n",
    "        (Ra + Rx) / (np.sqrt(2) * (Rb + Rx)) -\n",
    "        (Ra + Rx) / (np.sqrt(2) * (Rbp + Rx))\n",
    "    )"
   ]
  },
  {
   "cell_type": "markdown",
   "metadata": {},
   "source": [
    "Finally, let's call this function on our data frame."
   ]
  },
  {
   "cell_type": "code",
   "execution_count": 23,
   "metadata": {},
   "outputs": [],
   "source": [
    "get_tolerance_factor(df_new)"
   ]
  },
  {
   "cell_type": "markdown",
   "metadata": {},
   "source": [
    "Let's save our hard work into a `pkl` file. Next we'll try to do machine learning on it on another day."
   ]
  },
  {
   "cell_type": "code",
   "execution_count": 24,
   "metadata": {},
   "outputs": [],
   "source": [
    "df_new.to_pickle('df_new.pkl')"
   ]
  },
  {
   "cell_type": "markdown",
   "metadata": {},
   "source": [
    "Congrats! After all that, we're done ^^"
   ]
  }
 ],
 "metadata": {
  "kernelspec": {
   "display_name": "Python 3",
   "language": "python",
   "name": "python3"
  },
  "language_info": {
   "codemirror_mode": {
    "name": "ipython",
    "version": 3
   },
   "file_extension": ".py",
   "mimetype": "text/x-python",
   "name": "python",
   "nbconvert_exporter": "python",
   "pygments_lexer": "ipython3",
   "version": "3.7.3"
  }
 },
 "nbformat": 4,
 "nbformat_minor": 2
}
